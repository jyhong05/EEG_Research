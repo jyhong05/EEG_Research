{
 "cells": [
  {
   "cell_type": "code",
   "execution_count": 37,
   "metadata": {},
   "outputs": [],
   "source": [
    "import pandas as pd\n",
    "import numpy as np"
   ]
  },
  {
   "cell_type": "code",
   "execution_count": 39,
   "metadata": {},
   "outputs": [
    {
     "name": "stdout",
     "output_type": "stream",
     "text": [
      "Unique subjects across all tasks: 414\n",
      "Sex count: {'M': 211, 'F': 203}\n"
     ]
    }
   ],
   "source": [
    "tasks = ['FR', 'catFR', 'PAL', 'YC']\n",
    "uniq_subjects = set()\n",
    "sex_count = {'M': 0, 'F': 0}\n",
    "\n",
    "for task in tasks:\n",
    "    for i in range(1,4):\n",
    "        path = f'../data/{task}/{task}{i}/participants.tsv'\n",
    "\n",
    "        try:\n",
    "            df = pd.read_csv(path, sep='\\t')\n",
    "        except FileNotFoundError:\n",
    "            continue\n",
    "\n",
    "        new_subjects = df[~df['participant_id'].isin(uniq_subjects)]\n",
    "        sex_count['M'] += len(new_subjects[new_subjects['sex'] == 'M'])\n",
    "        sex_count['F'] += len(new_subjects[new_subjects['sex'] == 'F'])\n",
    "        \n",
    "        uniq_subjects.update(df['participant_id'])\n",
    "\n",
    "print(f'Unique subjects across all tasks: {len(uniq_subjects)}')\n",
    "print(f'Sex count: {sex_count}')"
   ]
  },
  {
   "cell_type": "code",
   "execution_count": null,
   "metadata": {},
   "outputs": [
    {
     "name": "stdout",
     "output_type": "stream",
     "text": [
      "['sub-R1001P', 'sub-R1002P', 'sub-R1003P', 'sub-R1006P', 'sub-R1010J', 'sub-R1015J', 'sub-R1018P', 'sub-R1020J', 'sub-R1022J', 'sub-R1023J', 'sub-R1026D', 'sub-R1027J', 'sub-R1030J', 'sub-R1031M', 'sub-R1032D', 'sub-R1033D', 'sub-R1034D', 'sub-R1035M', 'sub-R1036M', 'sub-R1039M', 'sub-R1042M', 'sub-R1044J', 'sub-R1045E', 'sub-R1048E', 'sub-R1049J', 'sub-R1050M', 'sub-R1051J', 'sub-R1052E', 'sub-R1053M', 'sub-R1054J', 'sub-R1056M', 'sub-R1057E', 'sub-R1059J', 'sub-R1060M', 'sub-R1061T', 'sub-R1062J', 'sub-R1063C', 'sub-R1065J', 'sub-R1066P', 'sub-R1067P', 'sub-R1068J', 'sub-R1069M', 'sub-R1070T', 'sub-R1074M', 'sub-R1075J', 'sub-R1076D', 'sub-R1077T', 'sub-R1080E', 'sub-R1081J', 'sub-R1083J', 'sub-R1084T', 'sub-R1086M', 'sub-R1089P', 'sub-R1092J', 'sub-R1093J', 'sub-R1094T', 'sub-R1096E', 'sub-R1098D', 'sub-R1100D', 'sub-R1101T', 'sub-R1102P', 'sub-R1104D', 'sub-R1105E', 'sub-R1106M', 'sub-R1108J', 'sub-R1111M', 'sub-R1112M', 'sub-R1113T', 'sub-R1114C', 'sub-R1115T', 'sub-R1118N', 'sub-R1120E', 'sub-R1121M', 'sub-R1122E', 'sub-R1123C', 'sub-R1124J', 'sub-R1125T', 'sub-R1127P', 'sub-R1128E', 'sub-R1129D', 'sub-R1130M', 'sub-R1131M', 'sub-R1134T', 'sub-R1135E', 'sub-R1136N', 'sub-R1137E', 'sub-R1138T', 'sub-R1142N', 'sub-R1145J', 'sub-R1146E', 'sub-R1147P', 'sub-R1148P', 'sub-R1149N', 'sub-R1150J', 'sub-R1151E', 'sub-R1153T', 'sub-R1154D', 'sub-R1155D', 'sub-R1156D', 'sub-R1158T', 'sub-R1159P', 'sub-R1161E', 'sub-R1162N', 'sub-R1163T', 'sub-R1166D', 'sub-R1167M', 'sub-R1168T', 'sub-R1169P', 'sub-R1170J', 'sub-R1171M', 'sub-R1172E', 'sub-R1173J', 'sub-R1174T', 'sub-R1175N', 'sub-R1176M', 'sub-R1177M', 'sub-R1178P', 'sub-R1184M', 'sub-R1185N', 'sub-R1186P', 'sub-R1187P', 'sub-R1189M', 'sub-R1191J', 'sub-R1193T', 'sub-R1195E', 'sub-R1196N', 'sub-R1198M', 'sub-R1200T', 'sub-R1201P', 'sub-R1202M', 'sub-R1203T', 'sub-R1204T', 'sub-R1207J', 'sub-R1212P', 'sub-R1214M', 'sub-R1215M', 'sub-R1216E', 'sub-R1217T', 'sub-R1221P', 'sub-R1222M', 'sub-R1223E', 'sub-R1226D', 'sub-R1228M', 'sub-R1229M', 'sub-R1230J', 'sub-R1231M', 'sub-R1232N', 'sub-R1234D', 'sub-R1236J', 'sub-R1240T', 'sub-R1241J', 'sub-R1243T', 'sub-R1247P', 'sub-R1250N', 'sub-R1251M', 'sub-R1260D', 'sub-R1264P', 'sub-R1268T', 'sub-R1274T', 'sub-R1275D', 'sub-R1277J', 'sub-R1281E', 'sub-R1283T', 'sub-R1286J', 'sub-R1288P', 'sub-R1290M', 'sub-R1291M', 'sub-R1292E', 'sub-R1293P', 'sub-R1297T', 'sub-R1298E', 'sub-R1299T', 'sub-R1302M', 'sub-R1304N', 'sub-R1306E', 'sub-R1308T', 'sub-R1309M', 'sub-R1310J', 'sub-R1311T', 'sub-R1313J', 'sub-R1315T', 'sub-R1316T', 'sub-R1317D', 'sub-R1318N', 'sub-R1320D', 'sub-R1321M', 'sub-R1323T', 'sub-R1324M', 'sub-R1325C', 'sub-R1328E', 'sub-R1329T', 'sub-R1330D', 'sub-R1331T', 'sub-R1332M', 'sub-R1334T', 'sub-R1336T', 'sub-R1337E', 'sub-R1338T', 'sub-R1339D', 'sub-R1341T', 'sub-R1342M', 'sub-R1345D', 'sub-R1346T', 'sub-R1347D', 'sub-R1349T', 'sub-R1350D', 'sub-R1351M', 'sub-R1354E', 'sub-R1355T', 'sub-R1357M', 'sub-R1358T', 'sub-R1361C', 'sub-R1363T', 'sub-R1364C', 'sub-R1367D', 'sub-R1368T', 'sub-R1374T', 'sub-R1375C', 'sub-R1376D', 'sub-R1377M', 'sub-R1378T', 'sub-R1379E', 'sub-R1380D', 'sub-R1381T', 'sub-R1382T', 'sub-R1383J', 'sub-R1384J', 'sub-R1385E', 'sub-R1386T', 'sub-R1387E', 'sub-R1390M', 'sub-R1391T', 'sub-R1393T', 'sub-R1394E', 'sub-R1395M', 'sub-R1396T', 'sub-R1397D', 'sub-R1398J', 'sub-R1401J', 'sub-R1402E', 'sub-R1404E', 'sub-R1405E', 'sub-R1406M', 'sub-R1409D', 'sub-R1412M', 'sub-R1413D', 'sub-R1414E', 'sub-R1415T', 'sub-R1416T', 'sub-R1420T', 'sub-R1421M', 'sub-R1422T', 'sub-R1423E', 'sub-R1425D', 'sub-R1427T', 'sub-R1428T', 'sub-R1431J', 'sub-R1433E', 'sub-R1436J', 'sub-R1438M', 'sub-R1441T', 'sub-R1443D', 'sub-R1446T', 'sub-R1447M', 'sub-R1448T', 'sub-R1449T', 'sub-R1454M', 'sub-R1457T', 'sub-R1459M', 'sub-R1460M', 'sub-R1461T', 'sub-R1462M', 'sub-R1463E', 'sub-R1467M', 'sub-R1542J', 'sub-R1565T', 'sub-R1569T', 'sub-R1571T', 'sub-R1572T', 'sub-R1573T']\n",
      "280\n"
     ]
    }
   ],
   "source": [
    "curr_task = 'FR'\n",
    "num = 1\n",
    "path = f'../data/{curr_task}/{curr_task}{num}/participants.tsv'\n",
    "df = pd.read_csv(path, sep='\\t')\n",
    "\n",
    "print(list(df['participant_id']))\n",
    "print(len(df['participant_id']))"
   ]
  },
  {
   "cell_type": "code",
   "execution_count": null,
   "metadata": {},
   "outputs": [],
   "source": []
  }
 ],
 "metadata": {
  "kernelspec": {
   "display_name": "EEGvenv",
   "language": "python",
   "name": "python3"
  },
  "language_info": {
   "codemirror_mode": {
    "name": "ipython",
    "version": 3
   },
   "file_extension": ".py",
   "mimetype": "text/x-python",
   "name": "python",
   "nbconvert_exporter": "python",
   "pygments_lexer": "ipython3",
   "version": "3.11.4"
  }
 },
 "nbformat": 4,
 "nbformat_minor": 2
}
