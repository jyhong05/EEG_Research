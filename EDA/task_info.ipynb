{
 "cells": [
  {
   "cell_type": "markdown",
   "metadata": {},
   "source": [
    "# DOWNLOADS AND INSTALLS"
   ]
  },
  {
   "cell_type": "code",
   "execution_count": 73,
   "metadata": {},
   "outputs": [],
   "source": [
    "from helpers import *"
   ]
  },
  {
   "cell_type": "code",
   "execution_count": 74,
   "metadata": {},
   "outputs": [],
   "source": [
    "DS_NUM = 'ds005523'\n",
    "TASKNUM = 'YC2'\n",
    "MAX_SES = 12\n",
    "\n",
    "logs_path = f'logs/{TASKNUM}_logs.txt'\n",
    "if os.path.exists(logs_path): # clear logs\n",
    "    os.remove(logs_path)"
   ]
  },
  {
   "cell_type": "markdown",
   "metadata": {},
   "source": [
    "### install data (creates files in analysis folder), delete after usage"
   ]
  },
  {
   "cell_type": "code",
   "execution_count": 75,
   "metadata": {},
   "outputs": [
    {
     "name": "stdout",
     "output_type": "stream",
     "text": [
      "Cloning:   0%|                             | 0.00/2.00 [00:00<?, ? candidates/s]\n",
      "Enumerating: 0.00 Objects [00:00, ? Objects/s]\u001b[A\n",
      "                                              \u001b[A\n",
      "Counting:   0%|                              | 0.00/2.50k [00:00<?, ? Objects/s]\u001b[A\n",
      "                                                                                \u001b[A\n",
      "Compressing:   0%|                           | 0.00/1.69k [00:00<?, ? Objects/s]\u001b[A\n",
      "                                                                                \u001b[A\n",
      "Receiving:   0%|                             | 0.00/2.50k [00:00<?, ? Objects/s]\u001b[A\n",
      "Receiving:  79%|███████████████▊    | 1.97k/2.50k [00:00<00:00, 19.6k Objects/s]\u001b[A\n",
      "                                                                                \u001b[A\n",
      "Resolving:   0%|                                | 0.00/579 [00:00<?, ? Deltas/s]\u001b[A\n",
      "[INFO   ] Remote origin not usable by git-annex; setting annex-ignore           \u001b[A\n",
      "[INFO   ] https://github.com/OpenNeuroDatasets/ds005523.git/config download failed: Not Found \n",
      "\u001b[1;1minstall\u001b[0m(\u001b[1;32mok\u001b[0m): /Users/justinhong/Documents/EEG_Research/EDA/ds005523 (\u001b[1;35mdataset\u001b[0m)\n",
      "\u001b[0m"
     ]
    }
   ],
   "source": [
    "!datalad install https://github.com/OpenNeuroDatasets/{DS_NUM}.git"
   ]
  },
  {
   "cell_type": "code",
   "execution_count": 76,
   "metadata": {},
   "outputs": [
    {
     "name": "stdout",
     "output_type": "stream",
     "text": [
      "There are 22 participants for task YC2\n"
     ]
    }
   ],
   "source": [
    "participants = pd.read_csv(f'{DS_NUM}/participants.tsv', sep='\\t')\n",
    "\n",
    "subjects = participants['participant_id'].tolist()\n",
    "print(f'There are {len(subjects)} participants for task {TASKNUM}')\n",
    "\n",
    "with open(logs_path, 'a') as log:\n",
    "    log.write(f'There are {len(subjects)} total participants for task {TASKNUM}\\n\\n')"
   ]
  },
  {
   "cell_type": "markdown",
   "metadata": {},
   "source": [
    "# SINGLE SUBJECT ANALYSIS"
   ]
  },
  {
   "cell_type": "code",
   "execution_count": 77,
   "metadata": {},
   "outputs": [
    {
     "name": "stdout",
     "output_type": "stream",
     "text": [
      "Info for subject sub-R1006P session 0\n",
      "------------------------------------------------------------\n",
      "monopolar channel types + counts: {'ECOG': 99, 'SEEG': 24}\n",
      "bipolar channel types + counts: {'ECOG': 115, 'SEEG': 18}\n",
      "aggregated electrode counts: {'SEEG': 24, 'ECOG': 99}\n",
      "number of unique channel groups: 14\n",
      "recording time: 0.95 hrs\n",
      "sampling frequency: 500.0 Hz\n"
     ]
    }
   ],
   "source": [
    "sub = subjects[0]\n",
    "ses = 0\n",
    "_ = get_sub_info(DS_NUM, TASKNUM, sub, ses, print_info=True, log_path=logs_path)"
   ]
  },
  {
   "cell_type": "code",
   "execution_count": 78,
   "metadata": {},
   "outputs": [
    {
     "name": "stdout",
     "output_type": "stream",
     "text": [
      "Info for subject sub-R1006P session 1\n",
      "------------------------------------------------------------\n",
      "monopolar channel types + counts: {'ECOG': 99, 'SEEG': 24}\n",
      "bipolar channel types + counts: {'ECOG': 115, 'SEEG': 18}\n",
      "aggregated electrode counts: {'SEEG': 24, 'ECOG': 99}\n",
      "number of unique channel groups: 14\n",
      "recording time: 1.4685 hrs\n",
      "sampling frequency: 500.0 Hz\n"
     ]
    }
   ],
   "source": [
    "sub = subjects[0]\n",
    "ses = 1\n",
    "_ = get_sub_info(DS_NUM, TASKNUM, sub, ses, print_info=True, log_path=logs_path)"
   ]
  },
  {
   "cell_type": "markdown",
   "metadata": {},
   "source": [
    "# MULTI SUBJECT ANALYSIS"
   ]
  },
  {
   "cell_type": "markdown",
   "metadata": {},
   "source": [
    "### Session-aggregated info per subject:"
   ]
  },
  {
   "cell_type": "code",
   "execution_count": 79,
   "metadata": {},
   "outputs": [
    {
     "name": "stdout",
     "output_type": "stream",
     "text": [
      "Session-aggregated info for 21 valid subjects for task YC2\n",
      "------------------------------------------------------------\n",
      "YC2 Subject sub-R1006P\n",
      "{'sessions': 2, 'electrodes': {'SEEG': 24, 'ECOG': 99}, 'record time (hrs)': 2.4185, 'sample freq (Hz)': 500.0}\n",
      "\n",
      "YC2 Subject sub-R1013E\n",
      "{'sessions': 1, 'electrodes': {'SEEG': 108, 'ECOG': 18}, 'record time (hrs)': 0.8806, 'sample freq (Hz)': 999.0}\n",
      "\n",
      "YC2 Subject sub-R1015J\n",
      "{'sessions': 7, 'electrodes': {'SEEG': 180}, 'record time (hrs)': 8.2831, 'sample freq (Hz)': 1000.0}\n",
      "\n",
      "YC2 Subject sub-R1017J\n",
      "{'sessions': 1, 'electrodes': {'SEEG': 156}, 'record time (hrs)': 0.5983, 'sample freq (Hz)': 1000.0}\n",
      "\n",
      "YC2 Subject sub-R1019J\n",
      "{'sessions': 7, 'electrodes': {'SEEG': 24, 'ECOG': 120}, 'record time (hrs)': 3.9611, 'sample freq (Hz)': 1000.0}\n",
      "\n",
      "YC2 Subject sub-R1020J\n",
      "{'sessions': 2, 'electrodes': {'SEEG': 16, 'ECOG': 84}, 'record time (hrs)': 1.3992, 'sample freq (Hz)': 1000.0}\n",
      "\n",
      "YC2 Subject sub-R1023J\n",
      "{'sessions': 2, 'electrodes': {'SEEG': 138}, 'record time (hrs)': 1.6175, 'sample freq (Hz)': 1000.0}\n",
      "\n",
      "YC2 Subject sub-R1024E\n",
      "{'sessions': 3, 'electrodes': {'SEEG': 24, 'ECOG': 102}, 'record time (hrs)': 3.2879, 'sample freq (Hz)': [499.7071, 500.0]}\n",
      "\n",
      "YC2 Subject sub-R1026D\n",
      "{'sessions': 2, 'electrodes': {'SEEG': 12, 'ECOG': 52}, 'record time (hrs)': 1.4914, 'sample freq (Hz)': 1600.0}\n",
      "\n",
      "YC2 Subject sub-R1027J\n",
      "{'sessions': 4, 'electrodes': {'SEEG': 156}, 'record time (hrs)': 2.7133, 'sample freq (Hz)': 1000.0}\n",
      "\n",
      "YC2 Subject sub-R1030J\n",
      "{'sessions': 4, 'electrodes': {'SEEG': 118}, 'record time (hrs)': 2.5028, 'sample freq (Hz)': 1000.0}\n",
      "\n",
      "YC2 Subject sub-R1032D\n",
      "{'sessions': 2, 'electrodes': {'SEEG': 72, 'ECOG': 32}, 'record time (hrs)': 1.1667, 'sample freq (Hz)': 1600.0}\n",
      "\n",
      "YC2 Subject sub-R1033D\n",
      "{'sessions': 2, 'electrodes': {'SEEG': 36, 'ECOG': 40}, 'record time (hrs)': 1.3167, 'sample freq (Hz)': 1600.0}\n",
      "\n",
      "YC2 Subject sub-R1037D\n",
      "{'sessions': 5, 'electrodes': {'SEEG': 24, 'ECOG': 32}, 'record time (hrs)': 4.85, 'sample freq (Hz)': 1600.0}\n",
      "\n",
      "YC2 Subject sub-R1042M\n",
      "{'sessions': 1, 'electrodes': {'SEEG': 8, 'ECOG': 72}, 'record time (hrs)': 0.7895, 'sample freq (Hz)': 500.0}\n",
      "\n",
      "YC2 Subject sub-R1050M\n",
      "{'sessions': 1, 'electrodes': {'ECOG': 64}, 'record time (hrs)': 0.4001, 'sample freq (Hz)': 500.0}\n",
      "\n",
      "YC2 Subject sub-R1056M\n",
      "{'sessions': 1, 'electrodes': {'SEEG': 120}, 'record time (hrs)': 1.3161, 'sample freq (Hz)': 500.0}\n",
      "\n",
      "YC2 Subject sub-R1060M\n",
      "{'sessions': 1, 'electrodes': {'SEEG': 4, 'ECOG': 64}, 'record time (hrs)': 0.5856, 'sample freq (Hz)': 500.0}\n",
      "\n",
      "YC2 Subject sub-R1061T\n",
      "{'sessions': 1, 'electrodes': {'SEEG': 120}, 'record time (hrs)': 0.7359, 'sample freq (Hz)': 1000.0}\n",
      "\n",
      "YC2 Subject sub-R1065J\n",
      "{'sessions': 1, 'electrodes': {'SEEG': 188}, 'record time (hrs)': 1.2278, 'sample freq (Hz)': 1000.0}\n",
      "\n",
      "YC2 Subject sub-R1069M\n",
      "{'sessions': 1, 'electrodes': {'SEEG': 4, 'ECOG': 88}, 'record time (hrs)': 0.6229, 'sample freq (Hz)': 500.0}\n",
      "\n"
     ]
    }
   ],
   "source": [
    "ses_agg_info = get_ses_agg_info(DS_NUM, TASKNUM, subjects, MAX_SES, print_info=True, log_path=logs_path)"
   ]
  },
  {
   "cell_type": "markdown",
   "metadata": {},
   "source": [
    "### Subject and session-aggregated info over chosen subjects:"
   ]
  },
  {
   "cell_type": "code",
   "execution_count": 80,
   "metadata": {},
   "outputs": [
    {
     "name": "stdout",
     "output_type": "stream",
     "text": [
      "Subject and session info aggregated over 21 valid subjects for task YC2\n",
      "------------------------------------------------------------\n",
      "Number of sessions: 51, avg 2.43 sessions per subject\n",
      "Number of electrodes: {'SEEG': 1532, 'ECOG': 867}, avg {'SEEG': 72.9524, 'ECOG': 41.2857} per subject (unchanging for each subject)\n",
      "Recording time: 42.16 hrs, avg 2.01 hrs per subject, 0.83 hrs per session\n",
      "Sampling frequencies (Hz): {500.0: 7, 999.0: 1, 1000.0: 9, 499.7071: 1, 1600.0: 4}\n",
      "Invalid subject(s): ['sub-R1074M']\n"
     ]
    }
   ],
   "source": [
    "_ = get_sub_ses_agg_info(ses_agg_info, TASKNUM, subjects, print_info=True, log_path=logs_path)"
   ]
  },
  {
   "cell_type": "code",
   "execution_count": null,
   "metadata": {},
   "outputs": [],
   "source": []
  }
 ],
 "metadata": {
  "kernelspec": {
   "display_name": "EEGvenv",
   "language": "python",
   "name": "python3"
  },
  "language_info": {
   "codemirror_mode": {
    "name": "ipython",
    "version": 3
   },
   "file_extension": ".py",
   "mimetype": "text/x-python",
   "name": "python",
   "nbconvert_exporter": "python",
   "pygments_lexer": "ipython3",
   "version": "3.11.4"
  }
 },
 "nbformat": 4,
 "nbformat_minor": 2
}
