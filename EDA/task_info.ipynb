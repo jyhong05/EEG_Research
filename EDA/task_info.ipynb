{
 "cells": [
  {
   "cell_type": "markdown",
   "metadata": {},
   "source": [
    "# DOWNLOADS AND INSTALLS"
   ]
  },
  {
   "cell_type": "code",
   "execution_count": 29,
   "metadata": {},
   "outputs": [],
   "source": [
    "from helpers import *"
   ]
  },
  {
   "cell_type": "code",
   "execution_count": 30,
   "metadata": {},
   "outputs": [],
   "source": [
    "DS_NUM = 'ds005557'\n",
    "TASKNUM = 'FR3'\n",
    "MAX_SES = 5\n",
    "\n",
    "logs_path = f'logs/{TASKNUM}_logs.txt'\n",
    "if os.path.exists(logs_path): # clear logs\n",
    "    os.remove(logs_path)"
   ]
  },
  {
   "cell_type": "markdown",
   "metadata": {},
   "source": [
    "### install data (creates files in analysis folder), delete after usage"
   ]
  },
  {
   "cell_type": "code",
   "execution_count": 31,
   "metadata": {},
   "outputs": [
    {
     "name": "stdout",
     "output_type": "stream",
     "text": [
      "Cloning:   0%|                             | 0.00/2.00 [00:00<?, ? candidates/s]\n",
      "Enumerating: 0.00 Objects [00:00, ? Objects/s]\u001b[A\n",
      "                                              \u001b[A\n",
      "Counting:   0%|                              | 0.00/1.42k [00:00<?, ? Objects/s]\u001b[A\n",
      "                                                                                \u001b[A\n",
      "Compressing:   0%|                             | 0.00/869 [00:00<?, ? Objects/s]\u001b[A\n",
      "                                                                                \u001b[A\n",
      "Receiving:   0%|                             | 0.00/1.42k [00:00<?, ? Objects/s]\u001b[A\n",
      "Receiving:  84%|████████████████▊   | 1.19k/1.42k [00:00<00:00, 9.17k Objects/s]\u001b[A\n",
      "                                                                                \u001b[A\n",
      "Resolving:   0%|                                | 0.00/234 [00:00<?, ? Deltas/s]\u001b[A\n",
      "[INFO   ] Remote origin not usable by git-annex; setting annex-ignore           \u001b[A\n",
      "[INFO   ] https://github.com/OpenNeuroDatasets/ds005557.git/config download failed: Not Found \n",
      "\u001b[1;1minstall\u001b[0m(\u001b[1;32mok\u001b[0m): /Users/justinhong/Documents/EEG_Research/EDA/ds005557 (\u001b[1;35mdataset\u001b[0m)\n",
      "\u001b[0m"
     ]
    }
   ],
   "source": [
    "!datalad install https://github.com/OpenNeuroDatasets/{DS_NUM}.git"
   ]
  },
  {
   "cell_type": "code",
   "execution_count": 32,
   "metadata": {},
   "outputs": [
    {
     "name": "stdout",
     "output_type": "stream",
     "text": [
      "There are 18 participants for task FR3\n"
     ]
    }
   ],
   "source": [
    "participants = pd.read_csv(f'{DS_NUM}/participants.tsv', sep='\\t')\n",
    "\n",
    "subjects = participants['participant_id'].tolist()\n",
    "print(f'There are {len(subjects)} participants for task {TASKNUM}')\n",
    "\n",
    "with open(logs_path, 'a') as log:\n",
    "    log.write(f'There are {len(subjects)} total participants for task {TASKNUM}\\n\\n')"
   ]
  },
  {
   "cell_type": "markdown",
   "metadata": {},
   "source": [
    "# SINGLE SUBJECT ANALYSIS"
   ]
  },
  {
   "cell_type": "code",
   "execution_count": 33,
   "metadata": {},
   "outputs": [
    {
     "name": "stdout",
     "output_type": "stream",
     "text": [
      "Info for subject sub-R1124J session 0\n",
      "------------------------------------------------------------\n",
      "monopolar channel types + counts: {'SEEG': 120}\n",
      "bipolar channel types + counts: {'SEEG': 109}\n",
      "number of unique channel groups: 11\n",
      "recording time: 0.8528 hrs\n",
      "sampling frequency: 1000.0 Hz\n"
     ]
    }
   ],
   "source": [
    "sub = subjects[0]\n",
    "ses = 0\n",
    "_ = get_sub_info(DS_NUM, TASKNUM, sub, ses, print_info=True, log_path=logs_path)"
   ]
  },
  {
   "cell_type": "code",
   "execution_count": 34,
   "metadata": {},
   "outputs": [
    {
     "name": "stdout",
     "output_type": "stream",
     "text": [
      "Info for subject sub-R1124J session 1\n",
      "------------------------------------------------------------\n",
      "monopolar channel types + counts: {'SEEG': 120}\n",
      "bipolar channel types + counts: {'SEEG': 109}\n",
      "number of unique channel groups: 11\n",
      "recording time: 0.8182 hrs\n",
      "sampling frequency: 1000.0 Hz\n"
     ]
    }
   ],
   "source": [
    "sub = subjects[0]\n",
    "ses = 1\n",
    "_ = get_sub_info(DS_NUM, TASKNUM, sub, ses, print_info=True, log_path=logs_path)"
   ]
  },
  {
   "cell_type": "markdown",
   "metadata": {},
   "source": [
    "# MULTI SUBJECT ANALYSIS"
   ]
  },
  {
   "cell_type": "markdown",
   "metadata": {},
   "source": [
    "### Session-aggregated info per subject:"
   ]
  },
  {
   "cell_type": "code",
   "execution_count": 35,
   "metadata": {},
   "outputs": [
    {
     "name": "stdout",
     "output_type": "stream",
     "text": [
      "Session-aggregated info for 16 valid subjects for task FR3\n",
      "------------------------------------------------------------\n",
      "FR3 Subject sub-R1124J\n",
      "{'sessions': 2, 'electrodes (mono)': {'SEEG': 120}, 'record time (hrs)': 1.671, 'sample freq (Hz)': 1000.0}\n",
      "\n",
      "FR3 Subject sub-R1145J\n",
      "{'sessions': 1, 'electrodes (mono)': {'SEEG': 118}, 'record time (hrs)': 1.4897, 'sample freq (Hz)': 1000.0}\n",
      "\n",
      "FR3 Subject sub-R1154D\n",
      "{'sessions': 5, 'electrodes (mono)': {'ECOG': 64, 'SEEG': 12}, 'record time (hrs)': 4.4177, 'sample freq (Hz)': 1000.0}\n",
      "\n",
      "FR3 Subject sub-R1161E\n",
      "{'sessions': 2, 'electrodes (mono)': {'SEEG': 70}, 'record time (hrs)': 1.8152, 'sample freq (Hz)': 1000.0}\n",
      "\n",
      "FR3 Subject sub-R1163T\n",
      "{'sessions': 2, 'electrodes (mono)': {'SEEG': 126}, 'record time (hrs)': 1.6343, 'sample freq (Hz)': 1000.0}\n",
      "\n",
      "FR3 Subject sub-R1166D\n",
      "{'sessions': 2, 'electrodes (mono)': {'ECOG': 48, 'SEEG': 12}, 'record time (hrs)': 1.8063, 'sample freq (Hz)': 1000.0}\n",
      "\n",
      "FR3 Subject sub-R1170J\n",
      "{'sessions': 2, 'electrodes (mono)': {'SEEG': 108}, 'record time (hrs)': 1.549, 'sample freq (Hz)': 1000.0}\n",
      "\n",
      "FR3 Subject sub-R1195E\n",
      "{'sessions': 3, 'electrodes (mono)': {'ECOG': 44, 'SEEG': 83}, 'record time (hrs)': 2.508, 'sample freq (Hz)': 1000.0}\n",
      "\n",
      "FR3 Subject sub-R1200T\n",
      "{'sessions': 1, 'electrodes (mono)': {'SEEG': 124}, 'record time (hrs)': 0.8085, 'sample freq (Hz)': 1000.0}\n",
      "\n",
      "FR3 Subject sub-R1201P\n",
      "{'sessions': 1, 'electrodes (mono)': {'ECOG': 85, 'SEEG': 40}, 'record time (hrs)': 0.9306, 'sample freq (Hz)': 1000.0}\n",
      "\n",
      "FR3 Subject sub-R1202M\n",
      "{'sessions': 2, 'electrodes (mono)': {'ECOG': 64}, 'record time (hrs)': 1.9641, 'sample freq (Hz)': 1000.0}\n",
      "\n",
      "FR3 Subject sub-R1204T\n",
      "{'sessions': 1, 'electrodes (mono)': {'SEEG': 126}, 'record time (hrs)': 0.8339, 'sample freq (Hz)': 1000.0}\n",
      "\n",
      "FR3 Subject sub-R1217T\n",
      "{'sessions': 1, 'electrodes (mono)': {'SEEG': 126}, 'record time (hrs)': 0.8235, 'sample freq (Hz)': 1000.0}\n",
      "\n",
      "FR3 Subject sub-R1223E\n",
      "{'sessions': 2, 'electrodes (mono)': {'ECOG': 28, 'SEEG': 100}, 'record time (hrs)': 1.6789, 'sample freq (Hz)': 1000.0}\n",
      "\n",
      "FR3 Subject sub-R1293P\n",
      "{'sessions': 1, 'electrodes (mono)': {'SEEG': 112}, 'record time (hrs)': 0.3267, 'sample freq (Hz)': 1000.0}\n",
      "\n",
      "FR3 Subject sub-R1235E\n",
      "{'sessions': 1, 'electrodes (mono)': {'ECOG': 36, 'SEEG': 85}, 'record time (hrs)': 1.2788, 'sample freq (Hz)': 1000.0}\n",
      "\n"
     ]
    }
   ],
   "source": [
    "ses_agg_info = get_ses_agg_info(DS_NUM, TASKNUM, subjects, MAX_SES, print_info=True, log_path=logs_path)"
   ]
  },
  {
   "cell_type": "markdown",
   "metadata": {},
   "source": [
    "### Subject and session-aggregated info over chosen subjects:"
   ]
  },
  {
   "cell_type": "code",
   "execution_count": 36,
   "metadata": {},
   "outputs": [
    {
     "name": "stdout",
     "output_type": "stream",
     "text": [
      "{'sub-R1230J', 'sub-R1236J'}\n"
     ]
    }
   ],
   "source": [
    "print(set(subjects) - set(ses_agg_info.keys()))"
   ]
  },
  {
   "cell_type": "code",
   "execution_count": 37,
   "metadata": {},
   "outputs": [
    {
     "name": "stdout",
     "output_type": "stream",
     "text": [
      "Subject and session info aggregated over 16 valid subjects for task FR3\n",
      "------------------------------------------------------------\n",
      "Number of sessions: 29, avg 1.81 sessions per subject\n",
      "Number of electrodes: {'SEEG': 1362, 'ECOG': 369}, avg {'SEEG': 85.125, 'ECOG': 23.0625} per subject (unchanging for each subject)\n",
      "Recording time: 25.54 hrs, avg 1.60 hrs per subject, 0.88 hrs per session\n",
      "Invalid subject(s): ['sub-R1230J', 'sub-R1236J']\n"
     ]
    }
   ],
   "source": [
    "_ = get_sub_ses_agg_info(ses_agg_info, TASKNUM, subjects, print_info=True, log_path=logs_path)"
   ]
  },
  {
   "cell_type": "code",
   "execution_count": null,
   "metadata": {},
   "outputs": [],
   "source": []
  }
 ],
 "metadata": {
  "kernelspec": {
   "display_name": "EEGvenv",
   "language": "python",
   "name": "python3"
  },
  "language_info": {
   "codemirror_mode": {
    "name": "ipython",
    "version": 3
   },
   "file_extension": ".py",
   "mimetype": "text/x-python",
   "name": "python",
   "nbconvert_exporter": "python",
   "pygments_lexer": "ipython3",
   "version": "3.11.4"
  }
 },
 "nbformat": 4,
 "nbformat_minor": 2
}
