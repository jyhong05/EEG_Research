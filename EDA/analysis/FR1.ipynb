{
 "cells": [
  {
   "cell_type": "markdown",
   "metadata": {},
   "source": [
    "# DOWNLOADS AND INSTALLS"
   ]
  },
  {
   "cell_type": "code",
   "execution_count": 1,
   "metadata": {},
   "outputs": [
    {
     "name": "stderr",
     "output_type": "stream",
     "text": [
      "/Users/justinhong/Documents/EEG_Research/EEGvenv/lib/python3.11/site-packages/tqdm/auto.py:21: TqdmWarning: IProgress not found. Please update jupyter and ipywidgets. See https://ipywidgets.readthedocs.io/en/stable/user_install.html\n",
      "  from .autonotebook import tqdm as notebook_tqdm\n"
     ]
    }
   ],
   "source": [
    "import pandas as pd\n",
    "import numpy as np\n",
    "import os\n",
    "import json\n",
    "from openneuro import download\n",
    "from helpers import *"
   ]
  },
  {
   "cell_type": "code",
   "execution_count": 2,
   "metadata": {},
   "outputs": [],
   "source": [
    "DS_NUM = 'ds004789'\n",
    "TASK = 'FR'\n",
    "NUM = 1\n",
    "MAX_SES = 12\n",
    "DATA_PATH = f'../data/{TASK}/{TASK}{NUM}'"
   ]
  },
  {
   "cell_type": "code",
   "execution_count": null,
   "metadata": {},
   "outputs": [],
   "source": [
    "# download participants info\n",
    "download(dataset=DS_NUM, target_dir=DATA_PATH, include=['participants.tsv'])"
   ]
  },
  {
   "cell_type": "code",
   "execution_count": 3,
   "metadata": {},
   "outputs": [
    {
     "name": "stdout",
     "output_type": "stream",
     "text": [
      "There are 280 participants for task FR1\n"
     ]
    }
   ],
   "source": [
    "participants = pd.read_csv(f'{DATA_PATH}/participants.tsv', sep='\\t')\n",
    "\n",
    "ids = participants['participant_id'].tolist()\n",
    "print(f'There are {len(ids)} participants for task {TASK}{NUM}')"
   ]
  },
  {
   "cell_type": "code",
   "execution_count": 4,
   "metadata": {},
   "outputs": [],
   "source": [
    "SUBJECTS_RANGE = range(0, 280) # range to download (all subjects will be too much)\n",
    "subjects = [ids[i] for i in SUBJECTS_RANGE]\n",
    "bad_subs = ['sub-R1191J', 'sub-R1207J', 'sub-R1230J', 'sub-R1236J', 'sub-R1241J', 'sub-R1277J'] # doesn't have ieeg data\n",
    "\n",
    "for bad_sub in bad_subs:\n",
    "    if bad_sub in subjects:\n",
    "        subjects.remove(bad_sub)\n",
    "\n",
    "tsv_paths = [f'{sub}/ses-*/ieeg/*.tsv' for sub in subjects]\n",
    "json_paths = [f'{sub}/ses-*/ieeg/*.json' for sub in subjects]"
   ]
  },
  {
   "cell_type": "markdown",
   "metadata": {},
   "source": [
    "# FIX FOR FAULTY FOLDERS"
   ]
  },
  {
   "cell_type": "code",
   "execution_count": 15,
   "metadata": {},
   "outputs": [
    {
     "name": "stdout",
     "output_type": "stream",
     "text": [
      "\n",
      "👋 Hello! This is openneuro-py 2024.2.0. Great to see you! 🤗\n",
      "\n",
      "   👉 Please report problems 🤯 and bugs 🪲 at\n",
      "      https://github.com/hoechenberger/openneuro-py/issues\n",
      "\n",
      "🌍 Preparing to download ds004789 …\n"
     ]
    },
    {
     "name": "stderr",
     "output_type": "stream",
     "text": [
      "📁 Traversing directories for ds004789 : 351 entities [00:13, 24.42 entities/s]log_error - https://openneuro.org/crn/graphql: 502 Server Error: Bad Gateway for url: https://openneuro.org/crn/graphql\n",
      "📁 Traversing directories for ds004789 : 351 entities [00:15, 24.42 entities/s]/Users/justinhong/Documents/EEG_Research/EEGvenv/lib/python3.11/site-packages/openneuro/_download.py:197: RuntimeWarning: coroutine 'sleep' was never awaited\n",
      "  asyncio.sleep(retry_backoff)  # pyright: ignore[reportUnusedCoroutine]\n",
      "RuntimeWarning: Enable tracemalloc to get the object allocation traceback\n",
      "📁 Traversing directories for ds004789 : 361 entities [00:15, 11.21 entities/s]"
     ]
    },
    {
     "name": "stdout",
     "output_type": "stream",
     "text": [
      "  Request timed out while fetching metadata, retrying …\n"
     ]
    },
    {
     "name": "stderr",
     "output_type": "stream",
     "text": [
      "📁 Traversing directories for ds004789 : 7944 entities [04:47, 27.59 entities/s]\n"
     ]
    },
    {
     "ename": "RuntimeError",
     "evalue": "Could not find path in the dataset:\n- sub-R1036M/ses-*/ieeg/*.tsv\nThere were no similar filenames found in the metadata. Please check your includes.",
     "output_type": "error",
     "traceback": [
      "\u001b[31m---------------------------------------------------------------------------\u001b[39m",
      "\u001b[31mRuntimeError\u001b[39m                              Traceback (most recent call last)",
      "\u001b[36mCell\u001b[39m\u001b[36m \u001b[39m\u001b[32mIn[15]\u001b[39m\u001b[32m, line 2\u001b[39m\n\u001b[32m      1\u001b[39m \u001b[38;5;66;03m# download data\u001b[39;00m\n\u001b[32m----> \u001b[39m\u001b[32m2\u001b[39m \u001b[43mdownload\u001b[49m\u001b[43m(\u001b[49m\u001b[43mdataset\u001b[49m\u001b[43m=\u001b[49m\u001b[43mDS_NUM\u001b[49m\u001b[43m,\u001b[49m\u001b[43m \u001b[49m\u001b[43mtarget_dir\u001b[49m\u001b[43m=\u001b[49m\u001b[43mDATA_PATH\u001b[49m\u001b[43m,\u001b[49m\u001b[43m \u001b[49m\u001b[43minclude\u001b[49m\u001b[43m=\u001b[49m\u001b[43mtsv_paths\u001b[49m\u001b[43m+\u001b[49m\u001b[43mjson_paths\u001b[49m\u001b[43m)\u001b[49m\n",
      "\u001b[36mFile \u001b[39m\u001b[32m~/Documents/EEG_Research/EEGvenv/lib/python3.11/site-packages/openneuro/_download.py:876\u001b[39m, in \u001b[36mdownload\u001b[39m\u001b[34m(dataset, tag, target_dir, include, exclude, verify_hash, verify_size, max_retries, max_concurrent_downloads)\u001b[39m\n\u001b[32m    874\u001b[39m             \u001b[38;5;28;01melse\u001b[39;00m:\n\u001b[32m    875\u001b[39m                 extra = \u001b[33m\"\u001b[39m\u001b[33mThere were no similar filenames found in the \u001b[39m\u001b[33m\"\u001b[39m \u001b[33m\"\u001b[39m\u001b[33mmetadata. \u001b[39m\u001b[33m\"\u001b[39m\n\u001b[32m--> \u001b[39m\u001b[32m876\u001b[39m             \u001b[38;5;28;01mraise\u001b[39;00m \u001b[38;5;167;01mRuntimeError\u001b[39;00m(\n\u001b[32m    877\u001b[39m                 \u001b[33mf\u001b[39m\u001b[33m\"\u001b[39m\u001b[33mCould not find path in the dataset:\u001b[39m\u001b[38;5;130;01m\\n\u001b[39;00m\u001b[33m- \u001b[39m\u001b[38;5;132;01m{\u001b[39;00mthis\u001b[38;5;132;01m}\u001b[39;00m\u001b[38;5;130;01m\\n\u001b[39;00m\u001b[38;5;132;01m{\u001b[39;00mextra\u001b[38;5;132;01m}\u001b[39;00m\u001b[33m\"\u001b[39m\n\u001b[32m    878\u001b[39m                 \u001b[33m\"\u001b[39m\u001b[33mPlease check your includes.\u001b[39m\u001b[33m\"\u001b[39m\n\u001b[32m    879\u001b[39m             )\n\u001b[32m    881\u001b[39m msg = (\n\u001b[32m    882\u001b[39m     \u001b[33mf\u001b[39m\u001b[33m\"\u001b[39m\u001b[33mRetrieving up to \u001b[39m\u001b[38;5;132;01m{\u001b[39;00m\u001b[38;5;28mlen\u001b[39m(files)\u001b[38;5;132;01m}\u001b[39;00m\u001b[33m files \u001b[39m\u001b[33m\"\u001b[39m\n\u001b[32m    883\u001b[39m     \u001b[33mf\u001b[39m\u001b[33m\"\u001b[39m\u001b[33m(\u001b[39m\u001b[38;5;132;01m{\u001b[39;00mmax_concurrent_downloads\u001b[38;5;132;01m}\u001b[39;00m\u001b[33m concurrent downloads).\u001b[39m\u001b[33m\"\u001b[39m\n\u001b[32m    884\u001b[39m )\n\u001b[32m    885\u001b[39m tqdm.write(_unicode(msg, emoji=\u001b[33m\"\u001b[39m\u001b[33m📥\u001b[39m\u001b[33m\"\u001b[39m, end=\u001b[33m\"\u001b[39m\u001b[33m\"\u001b[39m))\n",
      "\u001b[31mRuntimeError\u001b[39m: Could not find path in the dataset:\n- sub-R1036M/ses-*/ieeg/*.tsv\nThere were no similar filenames found in the metadata. Please check your includes."
     ]
    }
   ],
   "source": [
    "# download data\n",
    "download(dataset=DS_NUM, target_dir=DATA_PATH, include=tsv_paths+json_paths)"
   ]
  },
  {
   "cell_type": "markdown",
   "metadata": {},
   "source": [
    "# SINGLE SUBJECT ANALYSIS"
   ]
  },
  {
   "cell_type": "code",
   "execution_count": 5,
   "metadata": {},
   "outputs": [
    {
     "name": "stdout",
     "output_type": "stream",
     "text": [
      "Info for subject sub-R1001P session 0\n",
      "------------------------------------------------------------\n",
      "monopolar channel types + counts: {'ECOG': 66, 'SEEG': 22}\n",
      "bipolar channel types + counts: {'ECOG': 54, 'SEEG': 18}\n",
      "number of unique channel groups: 16\n",
      "recording time: 1.305 hrs\n",
      "sampling frequency: 500.0 Hz\n"
     ]
    }
   ],
   "source": [
    "sub = subjects[0]\n",
    "ses = 0\n",
    "_ = get_sub_info(DATA_PATH, sub, ses, print_info=True)"
   ]
  },
  {
   "cell_type": "code",
   "execution_count": 6,
   "metadata": {},
   "outputs": [
    {
     "name": "stdout",
     "output_type": "stream",
     "text": [
      "Info for subject sub-R1001P session 1\n",
      "------------------------------------------------------------\n",
      "monopolar channel types + counts: {'ECOG': 66, 'SEEG': 22}\n",
      "bipolar channel types + counts: {'ECOG': 54, 'SEEG': 18}\n",
      "number of unique channel groups: 16\n",
      "recording time: 0.8528 hrs\n",
      "sampling frequency: 500.0 Hz\n"
     ]
    }
   ],
   "source": [
    "sub = subjects[0]\n",
    "ses = 1\n",
    "_ = get_sub_info(DATA_PATH, sub, ses, print_info=True)"
   ]
  },
  {
   "cell_type": "markdown",
   "metadata": {},
   "source": [
    "# MULTI SUBJECT ANALYSIS"
   ]
  },
  {
   "cell_type": "markdown",
   "metadata": {},
   "source": [
    "### Session-aggregated info per subject:"
   ]
  },
  {
   "cell_type": "code",
   "execution_count": 7,
   "metadata": {},
   "outputs": [
    {
     "name": "stdout",
     "output_type": "stream",
     "text": [
      "Session-aggregated info for 50 subjects for task FR1\n",
      "------------------------------------------------------------\n",
      "FR1 Subject sub-R1001P\n",
      "{'sessions': 2, 'electrodes (mono)': {'ECOG': 66, 'SEEG': 22}, 'record time (hrs)': 2.1579, 'sample freq (Hz)': 500.0}\n",
      "\n",
      "FR1 Subject sub-R1002P\n",
      "{'sessions': 2, 'electrodes (mono)': {'ECOG': 58, 'SEEG': 16}, 'record time (hrs)': 1.8478, 'sample freq (Hz)': 500.0}\n",
      "\n",
      "FR1 Subject sub-R1003P\n",
      "{'sessions': 2, 'electrodes (mono)': {'ECOG': 92, 'SEEG': 8}, 'record time (hrs)': 1.6206, 'sample freq (Hz)': 500.0}\n",
      "\n",
      "FR1 Subject sub-R1006P\n",
      "{'sessions': 2, 'electrodes (mono)': {'ECOG': 99, 'SEEG': 24}, 'record time (hrs)': 1.5759, 'sample freq (Hz)': [500.0, 499.7071]}\n",
      "\n",
      "FR1 Subject sub-R1010J\n",
      "{'sessions': 2, 'electrodes (mono)': {'SEEG': 186}, 'record time (hrs)': 1.6783, 'sample freq (Hz)': 1000.0}\n",
      "\n",
      "FR1 Subject sub-R1015J\n",
      "{'sessions': 1, 'electrodes (mono)': {'SEEG': 180}, 'record time (hrs)': 0.5556, 'sample freq (Hz)': 1000.0}\n",
      "\n",
      "FR1 Subject sub-R1018P\n",
      "{'sessions': 1, 'electrodes (mono)': {'ECOG': 100}, 'record time (hrs)': 0.9729, 'sample freq (Hz)': 500.0}\n",
      "\n",
      "FR1 Subject sub-R1020J\n",
      "{'sessions': 1, 'electrodes (mono)': {'ECOG': 84, 'SEEG': 16}, 'record time (hrs)': 0.9311, 'sample freq (Hz)': 1000.0}\n",
      "\n",
      "FR1 Subject sub-R1022J\n",
      "{'sessions': 1, 'electrodes (mono)': {'SEEG': 104}, 'record time (hrs)': 0.8197, 'sample freq (Hz)': 1000.0}\n",
      "\n",
      "FR1 Subject sub-R1023J\n",
      "{'sessions': 1, 'electrodes (mono)': {'SEEG': 138}, 'record time (hrs)': 0.8969, 'sample freq (Hz)': 1000.0}\n",
      "\n",
      "FR1 Subject sub-R1026D\n",
      "{'sessions': 1, 'electrodes (mono)': {'ECOG': 52, 'SEEG': 12}, 'record time (hrs)': 0.85, 'sample freq (Hz)': 1600.0}\n",
      "\n",
      "FR1 Subject sub-R1027J\n",
      "{'sessions': 1, 'electrodes (mono)': {'SEEG': 156}, 'record time (hrs)': 0.9914, 'sample freq (Hz)': 1000.0}\n",
      "\n",
      "FR1 Subject sub-R1030J\n",
      "{'sessions': 1, 'electrodes (mono)': {'SEEG': 118}, 'record time (hrs)': 1.2214, 'sample freq (Hz)': 1000.0}\n",
      "\n",
      "FR1 Subject sub-R1031M\n",
      "{'sessions': 1, 'electrodes (mono)': {'SEEG': 16}, 'record time (hrs)': 0.735, 'sample freq (Hz)': 500.0}\n",
      "\n",
      "FR1 Subject sub-R1032D\n",
      "{'sessions': 1, 'electrodes (mono)': {'ECOG': 32, 'SEEG': 72}, 'record time (hrs)': 0.7431, 'sample freq (Hz)': 1600.0}\n",
      "\n",
      "FR1 Subject sub-R1033D\n",
      "{'sessions': 1, 'electrodes (mono)': {'ECOG': 40, 'SEEG': 36}, 'record time (hrs)': 0.3333, 'sample freq (Hz)': 1600.0}\n",
      "\n",
      "FR1 Subject sub-R1034D\n",
      "{'sessions': 3, 'electrodes (mono)': {'ECOG': 100, 'SEEG': 12}, 'record time (hrs)': 1.5833, 'sample freq (Hz)': 1600.0}\n",
      "\n",
      "FR1 Subject sub-R1035M\n",
      "{'sessions': 1, 'electrodes (mono)': {'SEEG': 97}, 'record time (hrs)': 0.4329, 'sample freq (Hz)': 500.0}\n",
      "\n",
      "FR1 Subject sub-R1036M\n",
      "{'sessions': 1, 'electrodes (mono)': {'ECOG': 80, 'SEEG': 8}, 'record time (hrs)': 0.949, 'sample freq (Hz)': 500.0}\n",
      "\n",
      "FR1 Subject sub-R1039M\n",
      "{'sessions': 1, 'electrodes (mono)': {'ECOG': 100, 'SEEG': 16}, 'record time (hrs)': 0.7933, 'sample freq (Hz)': 500.0}\n",
      "\n",
      "FR1 Subject sub-R1042M\n",
      "{'sessions': 1, 'electrodes (mono)': {'ECOG': 72, 'SEEG': 8}, 'record time (hrs)': 1.2556, 'sample freq (Hz)': 500.0}\n",
      "\n",
      "FR1 Subject sub-R1044J\n",
      "{'sessions': 1, 'electrodes (mono)': {'SEEG': 186}, 'record time (hrs)': 0.4981, 'sample freq (Hz)': 1000.0}\n",
      "\n",
      "FR1 Subject sub-R1045E\n",
      "{'sessions': 1, 'electrodes (mono)': {'ECOG': 47, 'SEEG': 80}, 'record time (hrs)': 0.8109, 'sample freq (Hz)': 999.0}\n",
      "\n",
      "FR1 Subject sub-R1048E\n",
      "{'sessions': 1, 'electrodes (mono)': {'SEEG': 60}, 'record time (hrs)': 1.0168, 'sample freq (Hz)': 500.0}\n",
      "\n",
      "FR1 Subject sub-R1049J\n",
      "{'sessions': 1, 'electrodes (mono)': {'SEEG': 140}, 'record time (hrs)': 0.8625, 'sample freq (Hz)': 1000.0}\n",
      "\n",
      "FR1 Subject sub-R1050M\n",
      "{'sessions': 1, 'electrodes (mono)': {'ECOG': 64}, 'record time (hrs)': 0.874, 'sample freq (Hz)': 500.0}\n",
      "\n",
      "FR1 Subject sub-R1051J\n",
      "{'sessions': 3, 'electrodes (mono)': {'ECOG': 48, 'SEEG': 8}, 'record time (hrs)': 3.7322, 'sample freq (Hz)': 2000.0}\n",
      "\n",
      "FR1 Subject sub-R1052E\n",
      "{'sessions': 2, 'electrodes (mono)': {'ECOG': 30, 'SEEG': 98}, 'record time (hrs)': 1.8407, 'sample freq (Hz)': 500.0}\n",
      "\n",
      "FR1 Subject sub-R1053M\n",
      "{'sessions': 1, 'electrodes (mono)': {'ECOG': 64, 'SEEG': 16}, 'record time (hrs)': 0.5374, 'sample freq (Hz)': 500.0}\n",
      "\n",
      "FR1 Subject sub-R1054J\n",
      "{'sessions': 2, 'electrodes (mono)': {'SEEG': 165}, 'record time (hrs)': 1.8558, 'sample freq (Hz)': 1000.0}\n",
      "\n",
      "FR1 Subject sub-R1056M\n",
      "{'sessions': 1, 'electrodes (mono)': {'SEEG': 120}, 'record time (hrs)': 0.7794, 'sample freq (Hz)': 500.0}\n",
      "\n",
      "FR1 Subject sub-R1057E\n",
      "{'sessions': 1, 'electrodes (mono)': {'SEEG': 125}, 'record time (hrs)': 1.1211, 'sample freq (Hz)': 500.0}\n",
      "\n",
      "FR1 Subject sub-R1059J\n",
      "{'sessions': 2, 'electrodes (mono)': {'ECOG': 136, 'SEEG': 41}, 'record time (hrs)': 1.5911, 'sample freq (Hz)': 1000.0}\n",
      "\n",
      "FR1 Subject sub-R1060M\n",
      "{'sessions': 4, 'electrodes (mono)': {'ECOG': 64, 'SEEG': 4}, 'record time (hrs)': 3.0181, 'sample freq (Hz)': 500.0}\n",
      "\n",
      "FR1 Subject sub-R1061T\n",
      "{'sessions': 4, 'electrodes (mono)': {'SEEG': 120}, 'record time (hrs)': 3.1193, 'sample freq (Hz)': 1000.0}\n",
      "\n",
      "FR1 Subject sub-R1062J\n",
      "{'sessions': 4, 'electrodes (mono)': {'SEEG': 158}, 'record time (hrs)': 2.2383, 'sample freq (Hz)': 1000.0}\n",
      "\n",
      "FR1 Subject sub-R1063C\n",
      "{'sessions': 1, 'electrodes (mono)': {'SEEG': 126}, 'record time (hrs)': 0.8589, 'sample freq (Hz)': 500.0}\n",
      "\n",
      "FR1 Subject sub-R1065J\n",
      "{'sessions': 6, 'electrodes (mono)': {'SEEG': 188}, 'record time (hrs)': 4.7144, 'sample freq (Hz)': 1000.0}\n",
      "\n",
      "FR1 Subject sub-R1066P\n",
      "{'sessions': 4, 'electrodes (mono)': {'ECOG': 40, 'SEEG': 20}, 'record time (hrs)': 3.7985, 'sample freq (Hz)': 500.0}\n",
      "\n",
      "FR1 Subject sub-R1067P\n",
      "{'sessions': 3, 'electrodes (mono)': {'ECOG': 100, 'SEEG': 16}, 'record time (hrs)': 2.6008, 'sample freq (Hz)': 500.0}\n",
      "\n",
      "FR1 Subject sub-R1068J\n",
      "{'sessions': 3, 'electrodes (mono)': {'ECOG': 62, 'SEEG': 24}, 'record time (hrs)': 3.6564, 'sample freq (Hz)': 1000.0}\n",
      "\n",
      "FR1 Subject sub-R1069M\n",
      "{'sessions': 1, 'electrodes (mono)': {'ECOG': 88, 'SEEG': 4}, 'record time (hrs)': 0.8735, 'sample freq (Hz)': 500.0}\n",
      "\n",
      "FR1 Subject sub-R1070T\n",
      "{'sessions': 3, 'electrodes (mono)': {'SEEG': 126}, 'record time (hrs)': 2.7556, 'sample freq (Hz)': 1000.0}\n",
      "\n",
      "FR1 Subject sub-R1074M\n",
      "{'sessions': 1, 'electrodes (mono)': {'SEEG': 96}, 'record time (hrs)': 0.9361, 'sample freq (Hz)': 500.0}\n",
      "\n",
      "FR1 Subject sub-R1075J\n",
      "{'sessions': 2, 'electrodes (mono)': {'ECOG': 120}, 'record time (hrs)': 1.5667, 'sample freq (Hz)': 1000.0}\n",
      "\n",
      "FR1 Subject sub-R1076D\n",
      "{'sessions': 2, 'electrodes (mono)': {'ECOG': 43}, 'record time (hrs)': 1.6482, 'sample freq (Hz)': 1000.0}\n",
      "\n",
      "FR1 Subject sub-R1077T\n",
      "{'sessions': 4, 'electrodes (mono)': {'SEEG': 120}, 'record time (hrs)': 3.9197, 'sample freq (Hz)': 1000.0}\n",
      "\n",
      "FR1 Subject sub-R1080E\n",
      "{'sessions': 2, 'electrodes (mono)': {'ECOG': 20, 'SEEG': 107}, 'record time (hrs)': 1.2911, 'sample freq (Hz)': 999.0}\n",
      "\n",
      "FR1 Subject sub-R1081J\n",
      "{'sessions': 2, 'electrodes (mono)': {'ECOG': 102, 'SEEG': 8}, 'record time (hrs)': 1.0967, 'sample freq (Hz)': 1000.0}\n",
      "\n",
      "FR1 Subject sub-R1083J\n",
      "{'sessions': 5, 'electrodes (mono)': {'ECOG': 28, 'SEEG': 58}, 'record time (hrs)': 6.6219, 'sample freq (Hz)': 1000.0}\n",
      "\n"
     ]
    }
   ],
   "source": [
    "ses_agg_info = get_ses_agg_info(DATA_PATH, subjects, MAX_SES, print_info=True)"
   ]
  },
  {
   "cell_type": "markdown",
   "metadata": {},
   "source": [
    "### Subject and session-aggregated info over chosen subjects:"
   ]
  },
  {
   "cell_type": "code",
   "execution_count": 8,
   "metadata": {},
   "outputs": [
    {
     "name": "stdout",
     "output_type": "stream",
     "text": [
      "Subject and session info aggregated over 275 subjects for task FR1:\n",
      "------------------------------------------------------------\n",
      "Number of sessions: 3014, avg 10.96 sessions per subject\n",
      "Number of electrodes: {'ECOG': 2031, 'SEEG': 3459}, avg {'ECOG': 7.385454545454546, 'SEEG': 12.578181818181818} per subject (unchanging for each subject)\n",
      "Recording time: 83.18 hrs, avg 0.30 hrs per subject, 0.03 hrs per session\n"
     ]
    }
   ],
   "source": [
    "_ = get_sub_ses_agg_info(ses_agg_info, print_info=True)"
   ]
  },
  {
   "cell_type": "code",
   "execution_count": null,
   "metadata": {},
   "outputs": [],
   "source": []
  }
 ],
 "metadata": {
  "kernelspec": {
   "display_name": "EEGvenv",
   "language": "python",
   "name": "python3"
  },
  "language_info": {
   "codemirror_mode": {
    "name": "ipython",
    "version": 3
   },
   "file_extension": ".py",
   "mimetype": "text/x-python",
   "name": "python",
   "nbconvert_exporter": "python",
   "pygments_lexer": "ipython3",
   "version": "3.11.4"
  }
 },
 "nbformat": 4,
 "nbformat_minor": 2
}
